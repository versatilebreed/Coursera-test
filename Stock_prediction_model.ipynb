{
  "nbformat": 4,
  "nbformat_minor": 0,
  "metadata": {
    "colab": {
      "name": " Stock_prediction_model.ipynb",
      "provenance": [],
      "collapsed_sections": [],
      "include_colab_link": true
    },
    "kernelspec": {
      "name": "python3",
      "display_name": "Python 3"
    }
  },
  "cells": [
    {
      "cell_type": "markdown",
      "metadata": {
        "id": "view-in-github",
        "colab_type": "text"
      },
      "source": [
        "<a href=\"https://colab.research.google.com/github/versatilebreed/Coursera-test/blob/gh-pages/Stock_prediction_model.ipynb\" target=\"_parent\"><img src=\"https://colab.research.google.com/assets/colab-badge.svg\" alt=\"Open In Colab\"/></a>"
      ]
    },
    {
      "cell_type": "code",
      "metadata": {
        "id": "QDaFIH0rnpPS"
      },
      "source": [
        "#To predict the closing stock price for past 60 days for appl.inc "
      ],
      "execution_count": null,
      "outputs": []
    },
    {
      "cell_type": "code",
      "metadata": {
        "id": "_QH78ALBn0-0"
      },
      "source": [
        "#importing libraries "
      ],
      "execution_count": null,
      "outputs": []
    },
    {
      "cell_type": "code",
      "metadata": {
        "id": "NY6FetonoD_C"
      },
      "source": [
        "import math\r\n",
        "import pandas_datareader as web\r\n",
        "import numpy as np\r\n",
        "import pandas as pd\r\n",
        "from sklearn.preprocessing import MinMaxScaler\r\n",
        "from keras.models import Sequential\r\n",
        "from keras.layers  import Dense, LSTM\r\n",
        "import matplotlib.pyplot as plt\r\n",
        "plt.style.use('fivethirtyeight')"
      ],
      "execution_count": null,
      "outputs": []
    },
    {
      "cell_type": "code",
      "metadata": {
        "colab": {
          "base_uri": "https://localhost:8080/",
          "height": 446
        },
        "id": "tnelQNrLofWW",
        "outputId": "5b0fd787-a95e-490b-9cf3-bccbfa7d1a0a"
      },
      "source": [
        "df = web.DataReader('AAPL', data_source='yahoo', start='2012-01-01', end='2019-01-01')\r\n",
        "df"
      ],
      "execution_count": null,
      "outputs": [
        {
          "output_type": "execute_result",
          "data": {
            "text/html": [
              "<div>\n",
              "<style scoped>\n",
              "    .dataframe tbody tr th:only-of-type {\n",
              "        vertical-align: middle;\n",
              "    }\n",
              "\n",
              "    .dataframe tbody tr th {\n",
              "        vertical-align: top;\n",
              "    }\n",
              "\n",
              "    .dataframe thead th {\n",
              "        text-align: right;\n",
              "    }\n",
              "</style>\n",
              "<table border=\"1\" class=\"dataframe\">\n",
              "  <thead>\n",
              "    <tr style=\"text-align: right;\">\n",
              "      <th></th>\n",
              "      <th>High</th>\n",
              "      <th>Low</th>\n",
              "      <th>Open</th>\n",
              "      <th>Close</th>\n",
              "      <th>Volume</th>\n",
              "      <th>Adj Close</th>\n",
              "    </tr>\n",
              "    <tr>\n",
              "      <th>Date</th>\n",
              "      <th></th>\n",
              "      <th></th>\n",
              "      <th></th>\n",
              "      <th></th>\n",
              "      <th></th>\n",
              "      <th></th>\n",
              "    </tr>\n",
              "  </thead>\n",
              "  <tbody>\n",
              "    <tr>\n",
              "      <th>2012-01-03</th>\n",
              "      <td>14.732143</td>\n",
              "      <td>14.607143</td>\n",
              "      <td>14.621429</td>\n",
              "      <td>14.686786</td>\n",
              "      <td>302220800.0</td>\n",
              "      <td>12.650659</td>\n",
              "    </tr>\n",
              "    <tr>\n",
              "      <th>2012-01-04</th>\n",
              "      <td>14.810000</td>\n",
              "      <td>14.617143</td>\n",
              "      <td>14.642857</td>\n",
              "      <td>14.765714</td>\n",
              "      <td>260022000.0</td>\n",
              "      <td>12.718646</td>\n",
              "    </tr>\n",
              "    <tr>\n",
              "      <th>2012-01-05</th>\n",
              "      <td>14.948214</td>\n",
              "      <td>14.738214</td>\n",
              "      <td>14.819643</td>\n",
              "      <td>14.929643</td>\n",
              "      <td>271269600.0</td>\n",
              "      <td>12.859850</td>\n",
              "    </tr>\n",
              "    <tr>\n",
              "      <th>2012-01-06</th>\n",
              "      <td>15.098214</td>\n",
              "      <td>14.972143</td>\n",
              "      <td>14.991786</td>\n",
              "      <td>15.085714</td>\n",
              "      <td>318292800.0</td>\n",
              "      <td>12.994284</td>\n",
              "    </tr>\n",
              "    <tr>\n",
              "      <th>2012-01-09</th>\n",
              "      <td>15.276786</td>\n",
              "      <td>15.048214</td>\n",
              "      <td>15.196429</td>\n",
              "      <td>15.061786</td>\n",
              "      <td>394024400.0</td>\n",
              "      <td>12.973674</td>\n",
              "    </tr>\n",
              "    <tr>\n",
              "      <th>...</th>\n",
              "      <td>...</td>\n",
              "      <td>...</td>\n",
              "      <td>...</td>\n",
              "      <td>...</td>\n",
              "      <td>...</td>\n",
              "      <td>...</td>\n",
              "    </tr>\n",
              "    <tr>\n",
              "      <th>2018-12-24</th>\n",
              "      <td>37.887501</td>\n",
              "      <td>36.647499</td>\n",
              "      <td>37.037498</td>\n",
              "      <td>36.707500</td>\n",
              "      <td>148676800.0</td>\n",
              "      <td>35.800995</td>\n",
              "    </tr>\n",
              "    <tr>\n",
              "      <th>2018-12-26</th>\n",
              "      <td>39.307499</td>\n",
              "      <td>36.680000</td>\n",
              "      <td>37.075001</td>\n",
              "      <td>39.292500</td>\n",
              "      <td>234330000.0</td>\n",
              "      <td>38.322155</td>\n",
              "    </tr>\n",
              "    <tr>\n",
              "      <th>2018-12-27</th>\n",
              "      <td>39.192501</td>\n",
              "      <td>37.517502</td>\n",
              "      <td>38.959999</td>\n",
              "      <td>39.037498</td>\n",
              "      <td>212468400.0</td>\n",
              "      <td>38.073456</td>\n",
              "    </tr>\n",
              "    <tr>\n",
              "      <th>2018-12-28</th>\n",
              "      <td>39.630001</td>\n",
              "      <td>38.637501</td>\n",
              "      <td>39.375000</td>\n",
              "      <td>39.057499</td>\n",
              "      <td>169165600.0</td>\n",
              "      <td>38.092960</td>\n",
              "    </tr>\n",
              "    <tr>\n",
              "      <th>2018-12-31</th>\n",
              "      <td>39.840000</td>\n",
              "      <td>39.119999</td>\n",
              "      <td>39.632500</td>\n",
              "      <td>39.435001</td>\n",
              "      <td>140014000.0</td>\n",
              "      <td>38.461140</td>\n",
              "    </tr>\n",
              "  </tbody>\n",
              "</table>\n",
              "<p>1760 rows × 6 columns</p>\n",
              "</div>"
            ],
            "text/plain": [
              "                 High        Low       Open      Close       Volume  Adj Close\n",
              "Date                                                                          \n",
              "2012-01-03  14.732143  14.607143  14.621429  14.686786  302220800.0  12.650659\n",
              "2012-01-04  14.810000  14.617143  14.642857  14.765714  260022000.0  12.718646\n",
              "2012-01-05  14.948214  14.738214  14.819643  14.929643  271269600.0  12.859850\n",
              "2012-01-06  15.098214  14.972143  14.991786  15.085714  318292800.0  12.994284\n",
              "2012-01-09  15.276786  15.048214  15.196429  15.061786  394024400.0  12.973674\n",
              "...               ...        ...        ...        ...          ...        ...\n",
              "2018-12-24  37.887501  36.647499  37.037498  36.707500  148676800.0  35.800995\n",
              "2018-12-26  39.307499  36.680000  37.075001  39.292500  234330000.0  38.322155\n",
              "2018-12-27  39.192501  37.517502  38.959999  39.037498  212468400.0  38.073456\n",
              "2018-12-28  39.630001  38.637501  39.375000  39.057499  169165600.0  38.092960\n",
              "2018-12-31  39.840000  39.119999  39.632500  39.435001  140014000.0  38.461140\n",
              "\n",
              "[1760 rows x 6 columns]"
            ]
          },
          "metadata": {
            "tags": []
          },
          "execution_count": 4
        }
      ]
    },
    {
      "cell_type": "code",
      "metadata": {
        "colab": {
          "base_uri": "https://localhost:8080/"
        },
        "id": "fJTmLinnqs0x",
        "outputId": "688a67aa-8e1e-48e2-df75-2a579c91adfc"
      },
      "source": [
        "df.shape"
      ],
      "execution_count": null,
      "outputs": [
        {
          "output_type": "execute_result",
          "data": {
            "text/plain": [
              "(1760, 6)"
            ]
          },
          "metadata": {
            "tags": []
          },
          "execution_count": 5
        }
      ]
    },
    {
      "cell_type": "code",
      "metadata": {
        "colab": {
          "base_uri": "https://localhost:8080/",
          "height": 558
        },
        "id": "WPJCHuzAq6VM",
        "outputId": "cd4067e4-732a-4c57-af0b-86465c2b5e6f"
      },
      "source": [
        "#To visualize the closing price \r\n",
        "plt.figure(figsize=(16,8))\r\n",
        "plt.title('Close price history')\r\n",
        "plt.plot(df['Close'])\r\n",
        "plt.xlabel('Date', fontsize=18)\r\n",
        "plt.ylabel('Close price USD ($)', fontsize=19)\r\n",
        "plt.show()"
      ],
      "execution_count": null,
      "outputs": [
        {
          "output_type": "display_data",
          "data": {
            "image/png": "[encoded data removed]",
            "text/plain": [
              "<Figure size 1152x576 with 1 Axes>"
            ]
          },
          "metadata": {
            "tags": []
          }
        }
      ]
    },
    {
      "cell_type": "code",
      "metadata": {
        "id": "4Xkp4A03sihn",
        "colab": {
          "base_uri": "https://localhost:8080/"
        },
        "outputId": "3225bd4d-ff74-429c-fd76-b47bd8e27819"
      },
      "source": [
        "#creating a new dataframe with the close column only \r\n",
        "data = df.filter(['Close'])\r\n",
        "#Converting the dataframe to numpy array\r\n",
        "dataset = data.values\r\n",
        "#Geting the number of rows to train the model \r\n",
        "training_data_len = math.ceil( len(dataset) * .8 )\r\n",
        "training_data_len\r\n"
      ],
      "execution_count": null,
      "outputs": [
        {
          "output_type": "execute_result",
          "data": {
            "text/plain": [
              "1408"
            ]
          },
          "metadata": {
            "tags": []
          },
          "execution_count": 7
        }
      ]
    },
    {
      "cell_type": "code",
      "metadata": {
        "colab": {
          "base_uri": "https://localhost:8080/"
        },
        "id": "MsqYHUxh1Yay",
        "outputId": "178dfe6a-3643-4ca9-a889-bd24046b78d0"
      },
      "source": [
        "#Scale the data \r\n",
        "scaler = MinMaxScaler(feature_range=(0,1))\r\n",
        "scaled_data = scaler.fit_transform(dataset)\r\n",
        "\r\n",
        "scaled_data"
      ],
      "execution_count": null,
      "outputs": [
        {
          "output_type": "execute_result",
          "data": {
            "text/plain": [
              "array([[0.01677525],\n",
              "       [0.01856622],\n",
              "       [0.02228596],\n",
              "       ...,\n",
              "       [0.56932147],\n",
              "       [0.56977531],\n",
              "       [0.57834128]])"
            ]
          },
          "metadata": {
            "tags": []
          },
          "execution_count": 8
        }
      ]
    },
    {
      "cell_type": "code",
      "metadata": {
        "colab": {
          "base_uri": "https://localhost:8080/"
        },
        "id": "Gb5r0kjm3XZG",
        "outputId": "1a0aaaab-f2ab-491a-8109-5f2d6a0b8fb7"
      },
      "source": [
        "#Creation of training dataset \r\n",
        "training_data = scaled_data[0:training_data_len]\r\n",
        "#Spliting the dataset into x_train & y_train datasets\r\n",
        "x_train = []\r\n",
        "y_train = []\r\n",
        "\r\n",
        "for i in range(60, len(training_data)):\r\n",
        "  x_train.append(training_data[i-60:i, 0])\r\n",
        "  y_train.append(training_data[i, 0]) \r\n",
        "\r\n",
        "  if i<= 61:\r\n",
        "    print(x_train) \r\n",
        "    print(y_train)\r\n",
        "    print()"
      ],
      "execution_count": null,
      "outputs": [
        {
          "output_type": "stream",
          "text": [
            "[array([0.01677525, 0.01856622, 0.02228596, 0.02582741, 0.02528444,\n",
            "       0.02650814, 0.02594896, 0.0250089 , 0.02372846, 0.02769133,\n",
            "       0.0312652 , 0.03016305, 0.02412556, 0.02988751, 0.02421471,\n",
            "       0.04548769, 0.04384259, 0.04599015, 0.05063372, 0.05344579,\n",
            "       0.05321078, 0.05234367, 0.05603909, 0.05951568, 0.06345425,\n",
            "       0.06981588, 0.08317935, 0.08338195, 0.09082143, 0.09638074,\n",
            "       0.08682617, 0.09050536, 0.09043243, 0.10074882, 0.09928197,\n",
            "       0.1019968 , 0.1068754 , 0.10959027, 0.11741061, 0.12310769,\n",
            "       0.1247528 , 0.12532821, 0.11558723, 0.11323704, 0.11358553,\n",
            "       0.12274305, 0.12532011, 0.13085515, 0.14390255, 0.16130993,\n",
            "       0.15805211, 0.15806021, 0.17064572, 0.17458428, 0.17178026,\n",
            "       0.16921943, 0.16655321, 0.17541084, 0.18148887, 0.18403351])]\n",
            "[0.17774480420636363]\n",
            "\n",
            "[array([0.01677525, 0.01856622, 0.02228596, 0.02582741, 0.02528444,\n",
            "       0.02650814, 0.02594896, 0.0250089 , 0.02372846, 0.02769133,\n",
            "       0.0312652 , 0.03016305, 0.02412556, 0.02988751, 0.02421471,\n",
            "       0.04548769, 0.04384259, 0.04599015, 0.05063372, 0.05344579,\n",
            "       0.05321078, 0.05234367, 0.05603909, 0.05951568, 0.06345425,\n",
            "       0.06981588, 0.08317935, 0.08338195, 0.09082143, 0.09638074,\n",
            "       0.08682617, 0.09050536, 0.09043243, 0.10074882, 0.09928197,\n",
            "       0.1019968 , 0.1068754 , 0.10959027, 0.11741061, 0.12310769,\n",
            "       0.1247528 , 0.12532821, 0.11558723, 0.11323704, 0.11358553,\n",
            "       0.12274305, 0.12532011, 0.13085515, 0.14390255, 0.16130993,\n",
            "       0.15805211, 0.15806021, 0.17064572, 0.17458428, 0.17178026,\n",
            "       0.16921943, 0.16655321, 0.17541084, 0.18148887, 0.18403351]), array([0.01856622, 0.02228596, 0.02582741, 0.02528444, 0.02650814,\n",
            "       0.02594896, 0.0250089 , 0.02372846, 0.02769133, 0.0312652 ,\n",
            "       0.03016305, 0.02412556, 0.02988751, 0.02421471, 0.04548769,\n",
            "       0.04384259, 0.04599015, 0.05063372, 0.05344579, 0.05321078,\n",
            "       0.05234367, 0.05603909, 0.05951568, 0.06345425, 0.06981588,\n",
            "       0.08317935, 0.08338195, 0.09082143, 0.09638074, 0.08682617,\n",
            "       0.09050536, 0.09043243, 0.10074882, 0.09928197, 0.1019968 ,\n",
            "       0.1068754 , 0.10959027, 0.11741061, 0.12310769, 0.1247528 ,\n",
            "       0.12532821, 0.11558723, 0.11323704, 0.11358553, 0.12274305,\n",
            "       0.12532011, 0.13085515, 0.14390255, 0.16130993, 0.15805211,\n",
            "       0.15806021, 0.17064572, 0.17458428, 0.17178026, 0.16921943,\n",
            "       0.16655321, 0.17541084, 0.18148887, 0.18403351, 0.1777448 ])]\n",
            "[0.17774480420636363, 0.16938960474691322]\n",
            "\n"
          ],
          "name": "stdout"
        }
      ]
    },
    {
      "cell_type": "code",
      "metadata": {
        "id": "F8EW5qfD6Fit"
      },
      "source": [
        "#convert the x_train and y_train into np array\r\n",
        "x_train, y_train = np.array(x_train), np.array(y_train)"
      ],
      "execution_count": null,
      "outputs": []
    },
    {
      "cell_type": "code",
      "metadata": {
        "colab": {
          "base_uri": "https://localhost:8080/"
        },
        "id": "lNCVZ5YnQX24",
        "outputId": "b5cccc37-983a-4dfd-d895-695968104513"
      },
      "source": [
        "#reshaping the data\r\n",
        "x_train = np.reshape(x_train, (x_train.shape[0], x_train.shape[1], 1))\r\n",
        "x_train.shape\r\n",
        "\r\n"
      ],
      "execution_count": null,
      "outputs": [
        {
          "output_type": "execute_result",
          "data": {
            "text/plain": [
              "(1348, 60, 1)"
            ]
          },
          "metadata": {
            "tags": []
          },
          "execution_count": 11
        }
      ]
    },
    {
      "cell_type": "code",
      "metadata": {
        "id": "i8PlJjNVQqJ3"
      },
      "source": [
        "#Building the LSTM model \r\n",
        "model = Sequential()\r\n",
        "model.add(LSTM(50, return_sequences=True, input_shape = (x_train.shape[1],1)))\r\n",
        "model.add(LSTM(50, return_sequences=False))\r\n",
        "model.add(Dense(25))\r\n",
        "model.add(Dense(1))"
      ],
      "execution_count": null,
      "outputs": []
    },
    {
      "cell_type": "code",
      "metadata": {
        "id": "OBhGU3ZORxaM"
      },
      "source": [
        "#Compile the model\r\n",
        "model.compile(optimizer='adam', loss='mean_squared_error')"
      ],
      "execution_count": null,
      "outputs": []
    },
    {
      "cell_type": "code",
      "metadata": {
        "colab": {
          "base_uri": "https://localhost:8080/"
        },
        "id": "6ydawmp7Tb40",
        "outputId": "fdc1cdc7-28e4-4e5e-b7c0-ee026b57836d"
      },
      "source": [
        "#FOR Training the model\r\n",
        "model.fit(x_train, y_train, batch_size=1, epochs=1)"
      ],
      "execution_count": null,
      "outputs": [
        {
          "output_type": "stream",
          "text": [
            "1348/1348 [==============================] - 31s 21ms/step - loss: 0.0029\n"
          ],
          "name": "stdout"
        },
        {
          "output_type": "execute_result",
          "data": {
            "text/plain": [
              "<tensorflow.python.keras.callbacks.History at 0x7fd03ede5790>"
            ]
          },
          "metadata": {
            "tags": []
          },
          "execution_count": 14
        }
      ]
    },
    {
      "cell_type": "code",
      "metadata": {
        "id": "XXk0aKuiUIef"
      },
      "source": [
        "#Creating the testing dataset\r\n",
        "#Create a new array containing scaled values from index 1348 to 2005\r\n",
        "test_data = scaled_data[training_data_len - 60: , :]\r\n",
        "#Creating the data x_test and y_test \r\n",
        "x_test = []\r\n",
        "y_test = dataset[training_data_len:, :]\r\n",
        "for i in range (60, len(test_data)): \r\n",
        " x_test.append(test_data[i-60:i, 0])\r\n",
        "\r\n"
      ],
      "execution_count": null,
      "outputs": []
    },
    {
      "cell_type": "code",
      "metadata": {
        "id": "Tu-TJvdpX3TA"
      },
      "source": [
        "#Convert the data to a numpy array\r\n",
        "x_test = np.array(x_test)"
      ],
      "execution_count": null,
      "outputs": []
    },
    {
      "cell_type": "code",
      "metadata": {
        "id": "s0f8sVXbYm0Q"
      },
      "source": [
        "#Reshape the data \r\n",
        "x_test = np.reshape(x_test, (x_test.shape[0], x_test.shape[1], 1))\r\n"
      ],
      "execution_count": null,
      "outputs": []
    },
    {
      "cell_type": "code",
      "metadata": {
        "colab": {
          "base_uri": "https://localhost:8080/"
        },
        "id": "20n30q1Uab12",
        "outputId": "a73be5fc-d1ce-4dff-eb87-e8a20280f15c"
      },
      "source": [
        " x_test.shape"
      ],
      "execution_count": null,
      "outputs": [
        {
          "output_type": "execute_result",
          "data": {
            "text/plain": [
              "(352, 60, 1)"
            ]
          },
          "metadata": {
            "tags": []
          },
          "execution_count": 18
        }
      ]
    },
    {
      "cell_type": "code",
      "metadata": {
        "id": "4CNGKB6vaoCz"
      },
      "source": [
        "#Predict the price values \r\n",
        "predictions = model.predict(x_test)\r\n",
        "predictions = scaler.inverse_transform(predictions)\r\n"
      ],
      "execution_count": null,
      "outputs": []
    },
    {
      "cell_type": "code",
      "metadata": {
        "colab": {
          "base_uri": "https://localhost:8080/"
        },
        "id": "HXwNgFSSbp3H",
        "outputId": "682d092a-456f-46e2-c9a4-36c5fd9c3df9"
      },
      "source": [
        "#Root mean square error\r\n",
        "rmse = np.sqrt( np.mean(predictions - y_test )**2 )\r\n",
        "rmse"
      ],
      "execution_count": null,
      "outputs": [
        {
          "output_type": "execute_result",
          "data": {
            "text/plain": [
              "0.06677009842612526"
            ]
          },
          "metadata": {
            "tags": []
          },
          "execution_count": 20
        }
      ]
    },
    {
      "cell_type": "code",
      "metadata": {
        "colab": {
          "base_uri": "https://localhost:8080/",
          "height": 925
        },
        "id": "jToodJm9cGiS",
        "outputId": "df5b9a8f-5ee1-4b40-d790-20670ba6468f"
      },
      "source": [
        "#PLOT THE DATA \r\n",
        "train = data[:training_data_len]\r\n",
        "valid = data[training_data_len:]\r\n",
        "valid['Predictions'] = predictions \r\n",
        "#visualize the data \r\n",
        "plt.figure(figsize=(16,8))\r\n",
        "plt.title('Model')\r\n",
        "plt.xlabel('Data', fontsize=18)\r\n",
        "plt.ylabel('Close price USD ($)')\r\n",
        "plt.plot(train['Close'])\r\n",
        "plt.plot(valid[['Close', 'Predictions']])\r\n",
        "plt.legend(['Train', 'Val','Predictions'], loc='lower right ')\r\n",
        "plt.show()"
      ],
      "execution_count": null,
      "outputs": [
        {
          "output_type": "stream",
          "text": [
            "/usr/local/lib/python3.7/dist-packages/ipykernel_launcher.py:4: SettingWithCopyWarning: \n",
            "A value is trying to be set on a copy of a slice from a DataFrame.\n",
            "Try using .loc[row_indexer,col_indexer] = value instead\n",
            "\n",
            "See the caveats in the documentation: https://pandas.pydata.org/pandas-docs/stable/user_guide/indexing.html#returning-a-view-versus-a-copy\n",
            "  after removing the cwd from sys.path.\n",
            "/usr/local/lib/python3.7/dist-packages/ipykernel_launcher.py:12: MatplotlibDeprecationWarning: Unrecognized location 'lower right '. Falling back on 'best'; valid locations are\n",
            "\tbest\n",
            "\tupper right\n",
            "\tupper left\n",
            "\tlower left\n",
            "\tlower right\n",
            "\tright\n",
            "\tcenter left\n",
            "\tcenter right\n",
            "\tlower center\n",
            "\tupper center\n",
            "\tcenter\n",
            "This will raise an exception in 3.3.\n",
            "  if sys.path[0] == '':\n"
          ],
          "name": "stderr"
        },
        {
          "output_type": "display_data",
          "data": {
            "image/png": "[encoded data removed]",
            "text/plain": [
              "<Figure size 1152x576 with 1 Axes>"
            ]
          },
          "metadata": {
            "tags": []
          }
        }
      ]
    },
    {
      "cell_type": "code",
      "metadata": {
        "colab": {
          "base_uri": "https://localhost:8080/",
          "height": 446
        },
        "id": "UTh2vt9ge2do",
        "outputId": "d46ea7ea-d27a-41e7-e036-af0a515fa261"
      },
      "source": [
        " valid"
      ],
      "execution_count": null,
      "outputs": [
        {
          "output_type": "execute_result",
          "data": {
            "text/html": [
              "<div>\n",
              "<style scoped>\n",
              "    .dataframe tbody tr th:only-of-type {\n",
              "        vertical-align: middle;\n",
              "    }\n",
              "\n",
              "    .dataframe tbody tr th {\n",
              "        vertical-align: top;\n",
              "    }\n",
              "\n",
              "    .dataframe thead th {\n",
              "        text-align: right;\n",
              "    }\n",
              "</style>\n",
              "<table border=\"1\" class=\"dataframe\">\n",
              "  <thead>\n",
              "    <tr style=\"text-align: right;\">\n",
              "      <th></th>\n",
              "      <th>Close</th>\n",
              "      <th>Predictions</th>\n",
              "    </tr>\n",
              "    <tr>\n",
              "      <th>Date</th>\n",
              "      <th></th>\n",
              "      <th></th>\n",
              "    </tr>\n",
              "  </thead>\n",
              "  <tbody>\n",
              "    <tr>\n",
              "      <th>2017-08-08</th>\n",
              "      <td>40.020000</td>\n",
              "      <td>38.491192</td>\n",
              "    </tr>\n",
              "    <tr>\n",
              "      <th>2017-08-09</th>\n",
              "      <td>40.264999</td>\n",
              "      <td>38.816357</td>\n",
              "    </tr>\n",
              "    <tr>\n",
              "      <th>2017-08-10</th>\n",
              "      <td>38.830002</td>\n",
              "      <td>39.162537</td>\n",
              "    </tr>\n",
              "    <tr>\n",
              "      <th>2017-08-11</th>\n",
              "      <td>39.369999</td>\n",
              "      <td>39.327179</td>\n",
              "    </tr>\n",
              "    <tr>\n",
              "      <th>2017-08-14</th>\n",
              "      <td>39.962502</td>\n",
              "      <td>39.433952</td>\n",
              "    </tr>\n",
              "    <tr>\n",
              "      <th>...</th>\n",
              "      <td>...</td>\n",
              "      <td>...</td>\n",
              "    </tr>\n",
              "    <tr>\n",
              "      <th>2018-12-24</th>\n",
              "      <td>36.707500</td>\n",
              "      <td>40.518929</td>\n",
              "    </tr>\n",
              "    <tr>\n",
              "      <th>2018-12-26</th>\n",
              "      <td>39.292500</td>\n",
              "      <td>39.726501</td>\n",
              "    </tr>\n",
              "    <tr>\n",
              "      <th>2018-12-27</th>\n",
              "      <td>39.037498</td>\n",
              "      <td>39.217686</td>\n",
              "    </tr>\n",
              "    <tr>\n",
              "      <th>2018-12-28</th>\n",
              "      <td>39.057499</td>\n",
              "      <td>38.885979</td>\n",
              "    </tr>\n",
              "    <tr>\n",
              "      <th>2018-12-31</th>\n",
              "      <td>39.435001</td>\n",
              "      <td>38.700375</td>\n",
              "    </tr>\n",
              "  </tbody>\n",
              "</table>\n",
              "<p>352 rows × 2 columns</p>\n",
              "</div>"
            ],
            "text/plain": [
              "                Close  Predictions\n",
              "Date                              \n",
              "2017-08-08  40.020000    38.491192\n",
              "2017-08-09  40.264999    38.816357\n",
              "2017-08-10  38.830002    39.162537\n",
              "2017-08-11  39.369999    39.327179\n",
              "2017-08-14  39.962502    39.433952\n",
              "...               ...          ...\n",
              "2018-12-24  36.707500    40.518929\n",
              "2018-12-26  39.292500    39.726501\n",
              "2018-12-27  39.037498    39.217686\n",
              "2018-12-28  39.057499    38.885979\n",
              "2018-12-31  39.435001    38.700375\n",
              "\n",
              "[352 rows x 2 columns]"
            ]
          },
          "metadata": {
            "tags": []
          },
          "execution_count": 22
        }
      ]
    },
    {
      "cell_type": "code",
      "metadata": {
        "colab": {
          "base_uri": "https://localhost:8080/"
        },
        "id": "06Okye_KrGTL",
        "outputId": "eb3b1cee-8e81-4465-83d5-43c6460d3c13"
      },
      "source": [
        " #Get the data qoute \r\n",
        " apple_qoute = web.DataReader('AAPL',data_source='yahoo', start ='2012-01-01', end='2018-12-02')\r\n",
        " #creating new dataframe\r\n",
        " new_df = apple_qoute.filter(['Close'])\r\n",
        " #get the last 60 days value and then convert into numpy array\r\n",
        " last_60_days = new_df[-60:].values\r\n",
        " #scale the  data between 0 and 1\r\n",
        " last_60_days_scaled = scaler.transform(last_60_days)\r\n",
        " #create and empty list \r\n",
        " X_test = []\r\n",
        "#APPEND THE past 60 days \r\n",
        "X_test.append(last_60_days_scaled)\r\n",
        "#Convert the X_test data set to numpy array\r\n",
        "X_test = np.array(X_test)\r\n",
        "#Reshape the data \r\n",
        "\r\n",
        "X_test = np.reshape(X_test, (X_test.shape[0], X_test.shape[1], 1))\r\n",
        "#Geting the predicted price \r\n",
        "pred_price = model.predict(X_test)\r\n",
        "pred_price = scaler.inverse_transform(pred_price)\r\n",
        "print(pred_price)"
      ],
      "execution_count": null,
      "outputs": [
        {
          "output_type": "stream",
          "text": [
            "[[44.042282]]\n"
          ],
          "name": "stdout"
        }
      ]
    },
    {
      "cell_type": "code",
      "metadata": {
        "colab": {
          "base_uri": "https://localhost:8080/"
        },
        "id": "rtT6wE2p81Qs",
        "outputId": "c2708aac-dfa6-46e5-e39a-d7d08123daff"
      },
      "source": [
        "apple_qoute2 = web.DataReader('AAPL',data_source='yahoo', start ='2018-01-01', end='2018-01-02')\r\n",
        "print(apple_qoute2['Close'])"
      ],
      "execution_count": null,
      "outputs": [
        {
          "output_type": "stream",
          "text": [
            "Date\n",
            "2018-01-02    43.064999\n",
            "Name: Close, dtype: float64\n"
          ],
          "name": "stdout"
        }
      ]
    },
    {
      "cell_type": "code",
      "metadata": {
        "id": "UMefczB_9jw5"
      },
      "source": [
        ""
      ],
      "execution_count": null,
      "outputs": []
    }
  ]
}